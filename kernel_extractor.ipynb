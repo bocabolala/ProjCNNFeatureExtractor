{
 "cells": [
  {
   "cell_type": "code",
   "execution_count": 4,
   "metadata": {},
   "outputs": [
    {
     "name": "stdout",
     "output_type": "stream",
     "text": [
      "vgg16 RGB layer: 1 block1_conv1  shape (3, 3, 3, 64)\n",
      "vgg16 Gray layer: 1 block1_conv1  shape (3, 3, 64)\n",
      "mob224 RGB layer: 1 conv1  shape (3, 3, 3, 32)\n",
      "mob224 Gray layer: 1 conv1  shape (3, 3, 32)\n",
      "inc_v2 RGB layer: 1 conv2d_203  shape (3, 3, 3, 32)\n",
      "inc_v2 Gray layer: 1 conv2d_203  shape (3, 3, 32)\n",
      "eff_b2 RGB layer: 4 stem_conv  shape (3, 3, 3, 48)\n",
      "eff_b2 Gray layer: 4 stem_conv  shape (3, 3, 48)\n",
      "res50 RGB layer: 2 conv1_conv  shape (7, 7, 3, 64)\n",
      "res50 Gray layer: 2 conv1_conv  shape (7, 7, 64)\n"
     ]
    }
   ],
   "source": [
    "import numpy as np \n",
    "import tensorflow as tf\n",
    "import tensorflow.keras.applications as models \n",
    "# import tensorflow_datasets as tfds\n",
    "# from libsvm.svmutil import svm_train, svm_problem, svm_parameter\n",
    "\n",
    "from matplotlib import pyplot\n",
    "\n",
    "\n",
    "\n",
    "mdls = {}\n",
    "filters = {}\n",
    "filters_flat = {}\n",
    "\n",
    "# Set up models for extract Conv layer\n",
    "mdls['vgg16'] = models.vgg16.VGG16()\n",
    "mdls['mob224'] = models.mobilenet.MobileNet()\n",
    "mdls['inc_v2'] = models.inception_resnet_v2.InceptionResNetV2()\n",
    "mdls['eff_b2'] = models.efficientnet.EfficientNetB4()\n",
    "mdls['res50'] = models.resnet50.ResNet50()\n",
    "\n",
    "\n",
    "def extract_con_kernel(mdls):\n",
    "    for idx, mdl in enumerate(mdls):\n",
    "        flag = True \n",
    "        layer_idx = 0\n",
    "        mdl_name = f\"{mdl}\" \n",
    "        layers = mdls[mdl_name].layers[:10]\n",
    "        # search in first 10 layers for conv layer  \n",
    "        for layer_idx, layer in enumerate(layers):\n",
    "            if 'conv' in layer.name and 'pad' not in layer.name:\n",
    "                flag = False\n",
    "                break \n",
    "            if not flag:\n",
    "                break\n",
    "        ker_weight = mdls[mdl_name].layers[layer_idx].get_weights()\n",
    "        # print(ker_weight)\n",
    "        if len(ker_weight) == 1:\n",
    "            filters[mdl_name] = ker_weight[0]\n",
    "        else:\n",
    "            filters[mdl_name], _ = ker_weight\n",
    "\n",
    "        filters_flat[mdl_name] = tf.reduce_mean(filters[mdl_name], axis=2)\n",
    "\n",
    "        print(mdl_name, 'RGB layer:', layer_idx, layer.name, ' shape', filters[mdl_name].shape)\n",
    "        print(mdl_name, 'Gray layer:', layer_idx, layer.name, ' shape', filters_flat[mdl_name].shape)\n",
    "        \n",
    "    return filters, filters_flat\n",
    "\n",
    "\n",
    "filters, filters_flat = extract_con_kernel(mdls)\n",
    "\n",
    "np.save('./filters', filters)\n",
    "np.save('./filters_flat', filters_flat)"
   ]
  },
  {
   "cell_type": "code",
   "execution_count": 5,
   "metadata": {},
   "outputs": [
    {
     "name": "stdout",
     "output_type": "stream",
     "text": [
      "(7, 7, 64)\n",
      "(7, 7, 3, 64)\n"
     ]
    }
   ],
   "source": [
    "filters_flat = np.load('./filters_flat.npy', allow_pickle=True).item()\n",
    "filters = np.load('./filters.npy', allow_pickle=True).item()\n",
    "\n",
    "print(filters_flat['res50'].shape)\n",
    "print(filters['res50'].shape)"
   ]
  }
 ],
 "metadata": {
  "kernelspec": {
   "display_name": "Python 3",
   "language": "python",
   "name": "python3"
  },
  "language_info": {
   "codemirror_mode": {
    "name": "ipython",
    "version": 3
   },
   "file_extension": ".py",
   "mimetype": "text/x-python",
   "name": "python",
   "nbconvert_exporter": "python",
   "pygments_lexer": "ipython3",
   "version": "3.9.9"
  }
 },
 "nbformat": 4,
 "nbformat_minor": 4
}
