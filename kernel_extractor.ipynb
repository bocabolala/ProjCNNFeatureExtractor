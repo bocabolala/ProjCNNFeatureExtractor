{
 "cells": [
  {
   "cell_type": "code",
   "execution_count": 1,
   "metadata": {},
   "outputs": [
    {
     "name": "stdout",
     "output_type": "stream",
     "text": [
      "vgg16  layer: 1 block1_conv1  shape (3, 3, 3, 64)\n",
      "mob224  layer: 1 conv1  shape (3, 3, 3, 32)\n",
      "inc_v2  layer: 1 conv2d  shape (3, 3, 3, 32)\n",
      "eff_b2  layer: 4 stem_conv  shape (3, 3, 3, 48)\n"
     ]
    }
   ],
   "source": [
    "import tensorflow.keras.applications as models \n",
    "\n",
    "from libsvm.svmutil import svm_train, svm_problem, svm_parameter\n",
    "\n",
    "from matplotlib import pyplot\n",
    "\n",
    "mdls = {}\n",
    "filters = {}\n",
    "biases = {}\n",
    "\n",
    "mdls['vgg16'] = models.vgg16.VGG16()\n",
    "mdls['mob224'] = models.mobilenet.MobileNet()\n",
    "mdls['inc_v2'] = models.inception_resnet_v2.InceptionResNetV2()\n",
    "mdls['eff_b2'] = models.efficientnet.EfficientNetB4()\n",
    "\n",
    "def extr_mdl_ker(mdls):\n",
    "    for idx, mdl in enumerate(mdls):\n",
    "        flag = True \n",
    "        l_idx = 0\n",
    "        mdl_name = f\"{mdl}\" \n",
    "        layers = mdls[mdl_name].layers[:10]\n",
    "        for l_idx, layer in enumerate(layers):\n",
    "            if 'conv' in layer.name and 'pad' not in layer.name:\n",
    "                flag = False\n",
    "                break \n",
    "            if not flag:\n",
    "                break\n",
    "        ker_weight = mdls[mdl_name].layers[l_idx].get_weights()\n",
    "        # print(ker_weight)\n",
    "        if len(ker_weight) == 1:\n",
    "            filters[mdl_name] = ker_weight[0]\n",
    "        else:\n",
    "            filters[mdl_name], _ = ker_weight\n",
    "        print(mdl_name, ' layer:', l_idx, layer.name, ' shape', filters[mdl_name].shape)\n",
    "        \n",
    "    return filters\n",
    "\n",
    "\n",
    "filters = extr_mdl_ker(mdls)\n",
    "    \n",
    "    \n",
    "# vgg16_filters, vgg16_biases = mdls['vgg16'].layers[1].get_weights()\n",
    "\n"
   ]
  },
  {
   "cell_type": "code",
   "execution_count": 42,
   "metadata": {},
   "outputs": [
    {
     "name": "stdout",
     "output_type": "stream",
     "text": [
      "block1_conv1 index 1\n",
      "<class 'str'>\n",
      "block1_conv2 index 2\n",
      "<class 'str'>\n",
      "block2_conv1 index 4\n",
      "<class 'str'>\n",
      "block2_conv2 index 5\n",
      "<class 'str'>\n",
      "block3_conv1 index 7\n",
      "<class 'str'>\n",
      "block3_conv2 index 8\n",
      "<class 'str'>\n",
      "block3_conv3 index 9\n",
      "<class 'str'>\n",
      "block4_conv1 index 11\n",
      "<class 'str'>\n",
      "block4_conv2 index 12\n",
      "<class 'str'>\n",
      "block4_conv3 index 13\n",
      "<class 'str'>\n",
      "block5_conv1 index 15\n",
      "<class 'str'>\n",
      "block5_conv2 index 16\n",
      "<class 'str'>\n",
      "block5_conv3 index 17\n",
      "<class 'str'>\n"
     ]
    }
   ],
   "source": [
    "for i, layer in enumerate(mdls['vgg16'].layers[:20]):\n",
    "    if 'conv' not in layer.name or ('pad' in layer.name):\n",
    "        continue\n",
    "    print(layer.name, 'index', i)\n",
    "    print(type(layer.name))"
   ]
  },
  {
   "cell_type": "code",
   "execution_count": 2,
   "metadata": {},
   "outputs": [
    {
     "name": "stdout",
     "output_type": "stream",
     "text": [
      "input_5\n",
      "conv1_pad\n",
      "conv1_conv\n",
      "conv1_bn\n",
      "conv1_relu\n",
      "pool1_pad\n",
      "pool1_pool\n",
      "conv2_block1_1_conv\n",
      "conv2_block1_1_bn\n",
      "conv2_block1_1_relu\n",
      "conv2_block1_2_conv\n",
      "conv2_block1_2_bn\n",
      "conv2_block1_2_relu\n",
      "conv2_block1_0_conv\n",
      "conv2_block1_3_conv\n",
      "conv2_block1_0_bn\n",
      "conv2_block1_3_bn\n",
      "conv2_block1_add\n",
      "conv2_block1_out\n",
      "conv2_block2_1_conv\n"
     ]
    }
   ],
   "source": [
    "r50 = models.resnet50.ResNet50()\n",
    "\n",
    "for i, layer in enumerate(r50.layers[:20]):\n",
    "    print(layer.name)\n"
   ]
  }
 ],
 "metadata": {
  "kernelspec": {
   "display_name": "Python 3",
   "language": "python",
   "name": "python3"
  },
  "language_info": {
   "codemirror_mode": {
    "name": "ipython",
    "version": 3
   },
   "file_extension": ".py",
   "mimetype": "text/x-python",
   "name": "python",
   "nbconvert_exporter": "python",
   "pygments_lexer": "ipython3",
   "version": "3.8.12"
  }
 },
 "nbformat": 4,
 "nbformat_minor": 4
}
