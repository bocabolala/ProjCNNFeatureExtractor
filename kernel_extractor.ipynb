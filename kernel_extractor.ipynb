{
 "cells": [
  {
   "cell_type": "code",
   "execution_count": 7,
   "metadata": {},
   "outputs": [
    {
     "ename": "ModuleNotFoundError",
     "evalue": "No module named 'numba'",
     "output_type": "error",
     "traceback": [
      "\u001b[0;31m---------------------------------------------------------------------------\u001b[0m",
      "\u001b[0;31mModuleNotFoundError\u001b[0m                       Traceback (most recent call last)",
      "\u001b[0;32m/var/folders/8q/dlk247ds3g793mkqrv34r7200000gn/T/ipykernel_96624/953990281.py\u001b[0m in \u001b[0;36m<module>\u001b[0;34m\u001b[0m\n\u001b[1;32m      1\u001b[0m \u001b[0;32mimport\u001b[0m \u001b[0mnumpy\u001b[0m \u001b[0;32mas\u001b[0m \u001b[0mnp\u001b[0m\u001b[0;34m\u001b[0m\u001b[0;34m\u001b[0m\u001b[0m\n\u001b[1;32m      2\u001b[0m \u001b[0;32mimport\u001b[0m \u001b[0mtensorflow\u001b[0m \u001b[0;32mas\u001b[0m \u001b[0mtf\u001b[0m\u001b[0;34m\u001b[0m\u001b[0;34m\u001b[0m\u001b[0m\n\u001b[0;32m----> 3\u001b[0;31m \u001b[0;32mfrom\u001b[0m \u001b[0mnumba\u001b[0m \u001b[0;32mimport\u001b[0m \u001b[0mcuda\u001b[0m\u001b[0;34m\u001b[0m\u001b[0;34m\u001b[0m\u001b[0m\n\u001b[0m\u001b[1;32m      4\u001b[0m \u001b[0;32mimport\u001b[0m \u001b[0mtensorflow\u001b[0m\u001b[0;34m.\u001b[0m\u001b[0mkeras\u001b[0m\u001b[0;34m.\u001b[0m\u001b[0mapplications\u001b[0m \u001b[0;32mas\u001b[0m \u001b[0mmodels\u001b[0m\u001b[0;34m\u001b[0m\u001b[0;34m\u001b[0m\u001b[0m\n\u001b[1;32m      5\u001b[0m \u001b[0;31m# import tensorflow_datasets as tfds\u001b[0m\u001b[0;34m\u001b[0m\u001b[0;34m\u001b[0m\u001b[0m\n",
      "\u001b[0;31mModuleNotFoundError\u001b[0m: No module named 'numba'"
     ]
    }
   ],
   "source": [
    "import numpy as np \n",
    "import tensorflow as tf\n",
    "import tensorflow.keras.applications as models \n",
    "# import tensorflow_datasets as tfds\n",
    "# from libsvm.svmutil import svm_train, svm_problem, svm_parameter\n",
    "\n",
    "from matplotlib import pyplot\n",
    "\n",
    "\n",
    "\n",
    "mdls = {}\n",
    "filters = {}\n",
    "filters_flat = {}\n",
    "\n",
    "# Set up models for extract Conv layer\n",
    "mdls['vgg16'] = models.vgg16.VGG16()\n",
    "mdls['mob224'] = models.mobilenet.MobileNet()\n",
    "mdls['inc_v2'] = models.inception_resnet_v2.InceptionResNetV2()\n",
    "mdls['eff_b2'] = models.efficientnet.EfficientNetB4()\n",
    "mdls['res50'] = models.resnet50.ResNet50()\n",
    "\n",
    "\n",
    "def extract_con_kernel(mdls):\n",
    "    for idx, mdl in enumerate(mdls):\n",
    "        flag = True \n",
    "        layer_idx = 0\n",
    "        mdl_name = f\"{mdl}\" \n",
    "        layers = mdls[mdl_name].layers[:10]\n",
    "        # search in first 10 layers for conv layer  \n",
    "        for layer_idx, layer in enumerate(layers):\n",
    "            if 'conv' in layer.name and 'pad' not in layer.name:\n",
    "                flag = False\n",
    "                break \n",
    "            if not flag:\n",
    "                break\n",
    "        ker_weight = mdls[mdl_name].layers[layer_idx].get_weights()\n",
    "        # print(ker_weight)\n",
    "        if len(ker_weight) == 1:\n",
    "            filters[mdl_name] = ker_weight[0]\n",
    "        else:\n",
    "            filters[mdl_name], _ = ker_weight\n",
    "\n",
    "        filters[mdl_name] = np.transpose(filters[mdl_name],(3,0,1,2))\n",
    "\n",
    "        filters_flat[mdl_name] = tf.reduce_mean(filters[mdl_name], axis=3)\n",
    "\n",
    "        print(mdl_name, 'RGB layer:', layer_idx, layer.name, ' shape', filters[mdl_name].shape)\n",
    "        print(mdl_name, 'Gray layer:', layer_idx, layer.name, ' shape', filters_flat[mdl_name].shape)\n",
    "        \n",
    "    return filters, filters_flat\n",
    "\n",
    "\n",
    "filters, filters_flat = extract_con_kernel(mdls)\n",
    "\n",
    "np.save('./filters', filters)\n",
    "np.save('./filters_flat', filters_flat)"
   ]
  },
  {
   "cell_type": "code",
   "execution_count": 6,
   "metadata": {},
   "outputs": [
    {
     "name": "stdout",
     "output_type": "stream",
     "text": [
      "(64, 7, 7)\n",
      "(64, 7, 7, 3)\n"
     ]
    }
   ],
   "source": [
    "filters_flat = np.load('./filters_flat.npy', allow_pickle=True).item()\n",
    "filters = np.load('./filters.npy', allow_pickle=True).item()\n",
    "\n",
    "print(filters_flat['res50'].shape)\n",
    "print(filters['res50'].shape)"
   ]
  }
 ],
 "metadata": {
  "kernelspec": {
   "display_name": "Python 3",
   "language": "python",
   "name": "python3"
  },
  "language_info": {
   "codemirror_mode": {
    "name": "ipython",
    "version": 3
   },
   "file_extension": ".py",
   "mimetype": "text/x-python",
   "name": "python",
   "nbconvert_exporter": "python",
   "pygments_lexer": "ipython3",
   "version": "3.9.9"
  }
 },
 "nbformat": 4,
 "nbformat_minor": 4
}
